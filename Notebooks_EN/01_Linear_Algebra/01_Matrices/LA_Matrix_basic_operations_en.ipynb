{
  "cells": [
    {
      "cell_type": "markdown",
      "metadata": {
        "id": "-8axOnN6SWHG"
      },
      "source": [
        "# Basic Matrix Operations\n",
        "\n",
        "### Matrix Addition\n",
        "\n",
        "Let $A=[a_{ij}]$ and $B=[b_{ij}]$ be two matrices of dimensions $m \\times n$. Then the sum of matrices $A$ and $B$ is the matrix $C=[c_{ij}]$ of dimensions $m \\times n$, where $c_{ij}=a_{ij}+b_{ij}$.\n",
        "\n",
        "### Matrix Scalar Multiplication\n",
        "\n",
        "Let $A=[a_{ij}]$ be a matrix of dimensions $m \\times n$, and let $k$ be a scalar. Then the product of matrix $A$ and scalar $k$ is the matrix $B=[b_{ij}]$ of dimensions $m \\times n$, where $b_{ij}=k \\cdot a_{ij}$.\n",
        "\n",
        "### Matrix Multiplication\n",
        "\n",
        "Let $A=[a_{ij}]$ be a matrix of dimensions $m \\times n$, and $B=[b_{ij}]$ be a matrix of dimensions $n \\times p$. Then the product of matrices $A$ and $B$ is the matrix $C=[c_{ij}]$ of dimensions $m \\times p$, where $c_{ij}=\\sum_{k=1}^{n} a_{ik} \\cdot b_{kj}$.\n",
        "\n",
        "\n",
        "### Example 1\n",
        "\n",
        "Let $A=\\begin{bmatrix} 1 & 2 \\\\ 3 & 4 \\end{bmatrix}$ and $B=\\begin{bmatrix} 5 & 6 \\\\ 7 & 8 \\end{bmatrix}$.\n",
        "Then the sum of matrices $A$ and $B$ is\n",
        "\n",
        "$$\n",
        "C=\n",
        "A+B=\\begin{bmatrix} 1+5 & 2+6 \\\\ 3+7 & 4+8 \\end{bmatrix}=\\begin{bmatrix} 6 & 8 \\\\ 10 & 12 \\end{bmatrix}.\n",
        "$$\n",
        "\n",
        "### Example 2\n",
        "\n",
        "Let $A=\\begin{bmatrix} 1 & 2 \\\\ 3 & 4 \\end{bmatrix}$ and $k=2$.\n",
        "\n",
        "Then the product of matrix $A$ and scalar $k$ is\n",
        "\n",
        "$$\n",
        "B=\n",
        "k \\cdot A=2 \\cdot \\begin{bmatrix} 1 & 2 \\\\ 3 & 4 \\end{bmatrix}=\\begin{bmatrix} 2*1 & 2*2 \\\\ 2*3 & 2*4 \\end{bmatrix}=\\begin{bmatrix} 2 & 4 \\\\ 6 & 8 \\end{bmatrix}.\n",
        "$$\n",
        "\n",
        "### Example 3\n",
        "\n",
        "Let\n",
        "$A=\\begin{bmatrix} 1 & 2 \\\\ 3 & 4 \\end{bmatrix}$\n",
        "and\n",
        "$B=\\begin{bmatrix} 5 & 6 \\\\ 7 & 8 \\end{bmatrix}$.\n",
        "\n",
        "Then the product of matrices $A$ and $B$ is\n",
        "\n",
        "$$\n",
        "C=\n",
        "A \\cdot B=\\begin{bmatrix} 1*5+2*7 & 1*6+2*8 \\\\ 3*5+4*7 & 3*6+4*8 \\end{bmatrix}=\\begin{bmatrix} 19 & 22 \\\\ 43 & 50 \\end{bmatrix}.\n",
        "$$"
      ]
    },
    {
      "cell_type": "code",
      "execution_count": null,
      "metadata": {
        "id": "ziG8qAQ9SWHH"
      },
      "outputs": [],
      "source": [
        "# Example 1: Matrix addition in sympy\n",
        "import sympy as sp\n",
        "\n",
        "A=sp.Matrix([[1,2],[3,4]])\n",
        "B=sp.Matrix([[5,6],[7,8]])\n",
        "A # display matrix A"
      ]
    },
    {
      "cell_type": "code",
      "execution_count": null,
      "metadata": {
        "id": "Cd29y_YLSWHH"
      },
      "outputs": [],
      "source": [
        "B # display matrix B"
      ]
    },
    {
      "cell_type": "code",
      "execution_count": null,
      "metadata": {
        "id": "sPJJNTrOSWHH"
      },
      "outputs": [],
      "source": [
        "sp.Matrix([[6,8],[10,12]])==A+B # verify matrix addition"
      ]
    },
    {
      "cell_type": "code",
      "execution_count": null,
      "metadata": {
        "id": "K0C4M7hSSWHH"
      },
      "outputs": [],
      "source": [
        "# Example 2: Scalar multiplication\n",
        "A=sp.Matrix([[1,2],[3,4]]) # define matrix A\n",
        "\n",
        "sp.Matrix([[2,4],[6,8]])==2*A # verify scalar multiplication"
      ]
    },
    {
      "cell_type": "code",
      "execution_count": null,
      "metadata": {
        "id": "hzGXW3I0SWHH"
      },
      "outputs": [],
      "source": [
        "# Example 3: Multiplication of two matrices\n",
        "\n",
        "A=sp.Matrix([[1,2],[3,4]]) # define matrix A\n",
        "B=sp.Matrix([[5,6],[7,8]]) # define matrix B\n",
        "\n",
        "sp.Matrix([[19,22],[43,50]])==A*B # verify matrix multiplication"
      ]
    },
    {
      "cell_type": "markdown",
      "metadata": {
        "id": "deP7UZ91SWHH"
      },
      "source": [
        "### Necessary Condition for Matrix Multiplication\n",
        "\n",
        "Remember that matrices can have different numbers of rows and columns.\n",
        "\n",
        "To multiply two matrices $A_{m \\times n}$ and $B_{n \\times k}$, where $A$ has dimensions $m \\times n$ and $B$ has dimensions $n \\times k$, the number of columns of matrix $A$ must equal the number of rows of matrix $B$. Otherwise, matrix multiplication is not possible.\n",
        "\n",
        "$$\n",
        "A_{m \\times n} \\cdot B_{n \\times k} = C_{m \\times k}\n",
        "$$\n",
        "\n",
        "For example, if $A_{3 \\times 3}$ and $B_{3 \\times 3}$, then the resulting matrix $C_{3 \\times 3}$.\n",
        "\n",
        "<img src=\"https://www.mscroggs.co.uk/img/full/multiply_matrices.gif\" alt=\"Matrix Multiplication GIF\" width=\"400\">\n",
        "\n",
        "### Matrix Multiplication is Not Commutative\n",
        "\n",
        "Matrix multiplication is not commutative, i.e., in general $A \\cdot B \\neq B \\cdot A$."
      ]
    },
    {
      "cell_type": "code",
      "execution_count": null,
      "metadata": {
        "colab": {
          "base_uri": "https://localhost:8080/",
          "height": 78
        },
        "id": "ajL8QMgPSWHH",
        "outputId": "d1735979-8121-4f53-88f5-664ee66b69e2"
      },
      "outputs": [
        {
          "output_type": "execute_result",
          "data": {
            "text/plain": [
              "Matrix([\n",
              "[ 9, 12, 15],\n",
              "[19, 26, 33],\n",
              "[29, 40, 51]])"
            ],
            "text/latex": "$\\displaystyle \\left[\\begin{matrix}9 & 12 & 15\\\\19 & 26 & 33\\\\29 & 40 & 51\\end{matrix}\\right]$"
          },
          "metadata": {},
          "execution_count": 1
        }
      ],
      "source": [
        "# Example of multiplying rectangular matrices\n",
        "import sympy as sp\n",
        "A=sp.Matrix([[1,2],[3,4],[5,6]]) # define matrix A_{3 x 2}\n",
        "B=sp.Matrix([[1,2,3],[4,5,6]]) # define matrix B_{2 x 3}\n",
        "C=sp.Matrix([[9,12,15],[19,26,33],[29,40,51]]) # define matrix C_{3 x 3}\n",
        "\n",
        "A*B # multiply matrices A and B to get a 3x3 matrix"
      ]
    },
    {
      "cell_type": "code",
      "execution_count": null,
      "metadata": {
        "id": "igZxYH3ySWHI"
      },
      "outputs": [],
      "source": [
        "B*A # multiply matrices B and A to get a 2x2 matrix"
      ]
    },
    {
      "cell_type": "code",
      "execution_count": null,
      "metadata": {
        "id": "cUeCb9QxSWHI"
      },
      "outputs": [],
      "source": [
        "B*C # multiply matrices B and C to get a 2x3 matrix"
      ]
    },
    {
      "cell_type": "markdown",
      "metadata": {
        "id": "TnaD5YWrSWHI"
      },
      "source": [
        "---\n",
        "## Exercises for Students (old version)\n",
        "\n",
        "1. Calculate the sum of matrices $A=\\begin{bmatrix} 1 & 2 \\\\ 3 & 4 \\end{bmatrix}$ and $B=\\begin{bmatrix} 5 & 6 \\\\ 7 & 8 \\end{bmatrix}$.\n",
        "\n",
        "2. Calculate the product of matrix $A=\\begin{bmatrix} 4 & 2 \\\\ 12 & 4 \\end{bmatrix}$ and scalar $k=\\frac{1}{4}$.\n",
        "\n",
        "3. Calculate the products $A\\cdot B$ and $B \\cdot A$ for matrices $A=\\begin{bmatrix} 3 & 2 \\\\ 2 & 4 \\end{bmatrix}$ and $B=\\begin{bmatrix} 4 & 1 \\\\ 6 & 4 \\end{bmatrix}$."
      ]
    },
    {
      "cell_type": "markdown",
      "metadata": {
        "id": "TIgrK8IqSWHI"
      },
      "source": [
        "\n",
        "## Exercises for Students (new version)\n",
        "\n",
        "For follwing matrices\n",
        "\n",
        "$$\n",
        "\\mathbf{A}=\n",
        "\\begin{pmatrix}\n",
        "1 & 2 \\\\\n",
        "3 & 4\n",
        "\\end{pmatrix}\n",
        "\\qquad\n",
        "\\mathbf{B}=\n",
        "\\begin{pmatrix}\n",
        "5 & 6 \\\\\n",
        "7 & 8\n",
        "\\end{pmatrix}\n",
        "\\quad\n",
        "\\mathbf{C}=\n",
        "\\begin{pmatrix}\n",
        "-1 & 2 \\\\\n",
        "3 & 0\n",
        "\\end{pmatrix}\n",
        "\\qquad\n",
        "\\mathbf{D}=\n",
        "\\begin{pmatrix}\n",
        "-1 & 2 & 3 \\\\\n",
        "4 & 0 & 6\n",
        "\\end{pmatrix}\n",
        "\\qquad\n",
        "\\mathbf{E}=\n",
        "\\begin{pmatrix}\n",
        "1 & 2\\\\\n",
        "4 & 5\\\\\n",
        "7 & 8\n",
        "\\end{pmatrix}\n",
        "$$\n",
        "\n",
        "1. Calculate: $\\mathbf{A}+\\mathbf{B}$;  $\\mathbf{B}-\\mathbf{A}$;  $\\mathbf{A}+\\mathbf{C}$; $\\mathbf{D}+\\mathbf{E}$.\n",
        "\n",
        "2. Calculate $\\frac{1}{2}\\mathbf{A}$, $2\\mathbf{B}$, $-3\\mathbf{C}$, and $4\\mathbf{D}$.\n",
        "\n",
        "3. Calculate the products $\\mathbf{A}\\cdot \\mathbf{B}$; $\\mathbf{B} \\cdot \\mathbf{A}$; $\\mathbf{A} \\cdot \\mathbf{D}$; $\\mathbf{D} \\cdot \\mathbf{E}$."
      ]
    },
    {
      "cell_type": "markdown",
      "metadata": {
        "id": "jNVw0DIKSWHI"
      },
      "source": []
    },
    {
      "cell_type": "markdown",
      "source": [
        "1-\n",
        "$$\n",
        "A = \\begin{pmatrix} 1 & 2 \\\\ 3 & 4 \\end{pmatrix}, \\quad B = \\begin{pmatrix} 5 & 6 \\\\ 7 & 8 \\end{pmatrix}\n",
        "$$\n",
        "\n",
        "$$\n",
        "A + B = \\begin{pmatrix} 1+5 & 2+6 \\\\ 3+7 & 4+8 \\end{pmatrix} = \\begin{pmatrix} 6 & 8 \\\\ 10 & 12 \\end{pmatrix}\n",
        "$$\n",
        "\n"
      ],
      "metadata": {
        "id": "k9dLgDBJTeR_"
      }
    },
    {
      "cell_type": "markdown",
      "source": [
        "2. $$\n",
        "A = \\begin{pmatrix} 4 & 2 \\\\ 12 & 4 \\end{pmatrix}, \\quad k = \\frac{1}{4}\n",
        "$$\n",
        "\n",
        "$$\n",
        "kA = \\frac{1}{4} \\begin{pmatrix} 4 & 2 \\\\ 12 & 4 \\end{pmatrix} = \\begin{pmatrix} 1 & 0.5 \\\\ 3 & 1 \\end{pmatrix}\n",
        "$$\n",
        "\n"
      ],
      "metadata": {
        "id": "JVrqqufFTiKh"
      }
    },
    {
      "cell_type": "markdown",
      "source": [
        "3.\n",
        "$$\n",
        "A = \\begin{pmatrix} 3 & 2 \\\\ 2 & 4 \\end{pmatrix}, \\quad B = \\begin{pmatrix} 4 & 1 \\\\ 6 & 4 \\end{pmatrix}\n",
        "$$\n",
        "\n",
        "$$\n",
        "A \\cdot B = \\begin{pmatrix} 3 \\cdot 4 + 2 \\cdot 6 & 3 \\cdot 1 + 2 \\cdot 4 \\\\ 2 \\cdot 4 + 4 \\cdot 6 & 2 \\cdot 1 + 4 \\cdot 4 \\end{pmatrix} = \\begin{pmatrix} 24 & 11 \\\\ 32 & 18 \\end{pmatrix}\n",
        "$$\n",
        "\n",
        "$$\n",
        "B \\cdot A = \\begin{pmatrix} 4 \\cdot 3 + 1 \\cdot 2 & 4 \\cdot 2 + 1 \\cdot 4 \\\\ 6 \\cdot 3 + 4 \\cdot 2 & 6 \\cdot 2 + 4 \\cdot 4 \\end{pmatrix} = \\begin{pmatrix} 14 & 12 \\\\ 26 & 28 \\end{pmatrix}\n",
        "$$\n"
      ],
      "metadata": {
        "id": "Buo-62v0Tm51"
      }
    },
    {
      "cell_type": "markdown",
      "source": [
        "- 1-$$\n",
        "A = \\begin{pmatrix} 1 & 2 \\\\ 3 & 4 \\end{pmatrix}, \\quad B = \\begin{pmatrix} 5 & 6 \\\\ 7 & 8 \\end{pmatrix}\n",
        "$$\n",
        "\n",
        "$$\n",
        "A + B = \\begin{pmatrix} 1+5 & 2+6 \\\\ 3+7 & 4+8 \\end{pmatrix} = \\begin{pmatrix} 6 & 8 \\\\ 10 & 12 \\end{pmatrix}\n",
        "$$\n",
        "\n",
        "$$\n",
        "B - A = \\begin{pmatrix} 5-1 & 6-2 \\\\ 7-3 & 8-4 \\end{pmatrix} = \\begin{pmatrix} 4 & 4 \\\\ 4 & 4 \\end{pmatrix}\n",
        "$$\n",
        "\n",
        "$$\n",
        "C = \\begin{pmatrix} -1 & 2 \\\\ 3 & 0 \\end{pmatrix}\n",
        "$$\n",
        "\n",
        "$$\n",
        "A + C = \\begin{pmatrix} 1-1 & 2+2 \\\\ 3+3 & 4+0 \\end{pmatrix} = \\begin{pmatrix} 0 & 4 \\\\ 6 & 4 \\end{pmatrix}\n",
        "$$\n",
        "\n",
        "$$\n",
        "D = \\begin{pmatrix} -1 & 2 \\\\ 4 & 0 \\end{pmatrix}, \\quad E = \\begin{pmatrix} 1 & 2 \\\\ 4 & 5 \\end{pmatrix}\n",
        "$$\n",
        "\n",
        "$$\n",
        "D + E = \\begin{pmatrix} -1+1 & 2+2 \\\\ 4+4 & 0+5 \\end{pmatrix} = \\begin{pmatrix} 0 & 4 \\\\ 8 & 5 \\end{pmatrix}\n",
        "$$\n",
        "\n"
      ],
      "metadata": {
        "id": "5s2Zo8sbTsOM"
      }
    },
    {
      "cell_type": "markdown",
      "source": [
        "- 2-$$\n",
        "\\frac{1}{2}A = \\frac{1}{2} \\begin{pmatrix} 1 & 2 \\\\ 3 & 4 \\end{pmatrix} = \\begin{pmatrix} 0.5 & 1 \\\\ 1.5 & 2 \\end{pmatrix}\n",
        "$$\n",
        "\n",
        "$$\n",
        "2B = 2 \\begin{pmatrix} 5 & 6 \\\\ 7 & 8 \\end{pmatrix} = \\begin{pmatrix} 10 & 12 \\\\ 14 & 16 \\end{pmatrix}\n",
        "$$\n",
        "\n",
        "$$\n",
        "-3C = -3 \\begin{pmatrix} -1 & 2 \\\\ 3 & 0 \\end{pmatrix} = \\begin{pmatrix} 3 & -6 \\\\ -9 & 0 \\end{pmatrix}\n",
        "$$\n",
        "\n",
        "$$\n",
        "4D = 4 \\begin{pmatrix} -1 & 2 \\\\ 4 & 0 \\end{pmatrix} = \\begin{pmatrix} -4 & 8 \\\\ 16 & 0 \\end{pmatrix}\n",
        "$$\n",
        "\n"
      ],
      "metadata": {
        "id": "3yATlSt9Twdc"
      }
    },
    {
      "cell_type": "markdown",
      "source": [
        "- 3-$$\n",
        "A \\cdot B = \\begin{pmatrix} 1 \\cdot 5 + 2 \\cdot 7 & 1 \\cdot 6 + 2 \\cdot 8 \\\\ 3 \\cdot 5 + 4 \\cdot 7 & 3 \\cdot 6 + 4 \\cdot 8 \\end{pmatrix} = \\begin{pmatrix} 19 & 22 \\\\ 43 & 50 \\end{pmatrix}\n",
        "$$\n",
        "\n",
        "$$\n",
        "B \\cdot A = \\begin{pmatrix} 5 \\cdot 1 + 6 \\cdot 3 & 5 \\cdot 2 + 6 \\cdot 4 \\\\ 7 \\cdot 1 + 8 \\cdot 3 & 7 \\cdot 2 + 8 \\cdot 4 \\end{pmatrix} = \\begin{pmatrix} 23 & 34 \\\\ 31 & 46 \\end{pmatrix}\n",
        "$$\n",
        "\n",
        "$$\n",
        "A \\cdot D = \\begin{pmatrix} 1 \\cdot -1 + 2 \\cdot 4 & 1 \\cdot 2 + 2 \\cdot 0 \\\\ 3 \\cdot -1 + 4 \\cdot 4 & 3 \\cdot 2 + 4 \\cdot 0 \\end{pmatrix} = \\begin{pmatrix} 7 & 2 \\\\ 13 & 6 \\end{pmatrix}\n",
        "$$\n",
        "\n",
        "$$\n",
        "D \\cdot E = \\begin{pmatrix} -1 \\cdot 1 + 2 \\cdot 4 & -1 \\cdot 2 + 2 \\cdot 5 \\\\ 4 \\cdot 1 + 0 \\cdot 4 & 4 \\cdot 2 + 0 \\cdot 5 \\end{pmatrix} = \\begin{pmatrix} 7 & 8 \\\\ 4 & 8 \\end{pmatrix}\n",
        "$$\n",
        "\n"
      ],
      "metadata": {
        "id": "ZvpFDoPpTzv7"
      }
    },
    {
      "cell_type": "code",
      "source": [
        "import sympy as sp\n",
        "\n",
        "# Define matrices A and B\n",
        "A = sp.Matrix([[1, 2], [3, 4]])\n",
        "B = sp.Matrix([[5, 6], [7, 8]])\n",
        "\n",
        "# Calculate the sum\n",
        "sum_AB = A + B\n",
        "\n",
        "# Print the result\n",
        "print(\"A + B:\")\n",
        "print(sum_AB)\n"
      ],
      "metadata": {
        "id": "zLJeflvk8bK3",
        "outputId": "18cb792f-a232-4276-b3bb-f298ae4cb4d0",
        "colab": {
          "base_uri": "https://localhost:8080/"
        }
      },
      "execution_count": 5,
      "outputs": [
        {
          "output_type": "stream",
          "name": "stdout",
          "text": [
            "A + B:\n",
            "Matrix([[6, 8], [10, 12]])\n"
          ]
        }
      ]
    },
    {
      "cell_type": "code",
      "source": [
        "import sympy as sp\n",
        "\n",
        "# Define matrix A and scalar k\n",
        "A = sp.Matrix([[4, 2], [12, 4]])\n",
        "k = 1 / 4\n",
        "\n",
        "# Calculate scalar multiplication\n",
        "scaled_A = k * A\n",
        "\n",
        "# Print the result\n",
        "print(\"\\nkA:\")\n",
        "print(scaled_A)\n"
      ],
      "metadata": {
        "id": "L6XzRs2v8ewQ",
        "outputId": "267f0635-3985-4e9e-988d-d015e9e3840a",
        "colab": {
          "base_uri": "https://localhost:8080/"
        }
      },
      "execution_count": 6,
      "outputs": [
        {
          "output_type": "stream",
          "name": "stdout",
          "text": [
            "\n",
            "kA:\n",
            "Matrix([[1.00000000000000, 0.500000000000000], [3.00000000000000, 1.00000000000000]])\n"
          ]
        }
      ]
    },
    {
      "cell_type": "code",
      "source": [
        "import sympy as sp\n",
        "\n",
        "# Define matrices A and B\n",
        "A = sp.Matrix([[3, 2], [2, 4]])\n",
        "B = sp.Matrix([[4, 1], [6, 4]])\n",
        "\n",
        "# Calculate the products\n",
        "product_AB = A * B\n",
        "product_BA = B * A\n",
        "\n",
        "# Print the results\n",
        "print(\"\\nA · B:\")\n",
        "print(product_AB)\n",
        "\n",
        "print(\"\\nB · A:\")\n",
        "print(product_BA)\n"
      ],
      "metadata": {
        "id": "yONqyytk8hBC",
        "outputId": "8437d3e1-7c1b-4ffe-daed-e8bd88597b32",
        "colab": {
          "base_uri": "https://localhost:8080/"
        }
      },
      "execution_count": 7,
      "outputs": [
        {
          "output_type": "stream",
          "name": "stdout",
          "text": [
            "\n",
            "A · B:\n",
            "Matrix([[24, 11], [32, 18]])\n",
            "\n",
            "B · A:\n",
            "Matrix([[14, 12], [26, 28]])\n"
          ]
        }
      ]
    },
    {
      "cell_type": "code",
      "source": [
        "import sympy as sp\n",
        "\n",
        "# Define matrices\n",
        "A = sp.Matrix([[1, 2], [3, 4]])\n",
        "B = sp.Matrix([[5, 6], [7, 8]])\n",
        "C = sp.Matrix([[-1, 2], [3, 0]])\n",
        "D = sp.Matrix([[-1, 2], [4, 0]])\n",
        "E = sp.Matrix([[1, 2], [4, 5]])\n",
        "\n",
        "# Calculations\n",
        "sum_AB = A + B\n",
        "diff_BA = B - A\n",
        "sum_AC = A + C\n",
        "sum_DE = D + E\n",
        "\n",
        "# Print results\n",
        "print(\"A + B:\")\n",
        "print(sum_AB)\n",
        "\n",
        "print(\"\\nB - A:\")\n",
        "print(diff_BA)\n",
        "\n",
        "print(\"\\nA + C:\")\n",
        "print(sum_AC)\n",
        "\n",
        "print(\"\\nD + E:\")\n",
        "print(sum_DE)\n"
      ],
      "metadata": {
        "id": "zyOVvNoQ806t",
        "outputId": "f077b3d4-a8a7-46b2-c140-13b747372303",
        "colab": {
          "base_uri": "https://localhost:8080/"
        }
      },
      "execution_count": 8,
      "outputs": [
        {
          "output_type": "stream",
          "name": "stdout",
          "text": [
            "A + B:\n",
            "Matrix([[6, 8], [10, 12]])\n",
            "\n",
            "B - A:\n",
            "Matrix([[4, 4], [4, 4]])\n",
            "\n",
            "A + C:\n",
            "Matrix([[0, 4], [6, 4]])\n",
            "\n",
            "D + E:\n",
            "Matrix([[0, 4], [8, 5]])\n"
          ]
        }
      ]
    },
    {
      "cell_type": "code",
      "source": [
        "# Scalar multiplications\n",
        "half_A = (1 / 2) * A\n",
        "double_B = 2 * B\n",
        "neg_three_C = -3 * C\n",
        "quad_D = 4 * D\n",
        "\n",
        "# Print results\n",
        "print(\"\\n1/2 A:\")\n",
        "print(half_A)\n",
        "\n",
        "print(\"\\n2B:\")\n",
        "print(double_B)\n",
        "\n",
        "print(\"\\n-3C:\")\n",
        "print(neg_three_C)\n",
        "\n",
        "print(\"\\n4D:\")\n",
        "print(quad_D)\n"
      ],
      "metadata": {
        "id": "567ZCFyJ82-w",
        "outputId": "51292c10-9567-4ae9-fc4e-55b8cd5744cf",
        "colab": {
          "base_uri": "https://localhost:8080/"
        }
      },
      "execution_count": 9,
      "outputs": [
        {
          "output_type": "stream",
          "name": "stdout",
          "text": [
            "\n",
            "1/2 A:\n",
            "Matrix([[0.500000000000000, 1.00000000000000], [1.50000000000000, 2.00000000000000]])\n",
            "\n",
            "2B:\n",
            "Matrix([[10, 12], [14, 16]])\n",
            "\n",
            "-3C:\n",
            "Matrix([[3, -6], [-9, 0]])\n",
            "\n",
            "4D:\n",
            "Matrix([[-4, 8], [16, 0]])\n"
          ]
        }
      ]
    },
    {
      "cell_type": "code",
      "source": [
        "# Matrix multiplications\n",
        "prod_AB = A * B\n",
        "prod_BA = B * A\n",
        "prod_AD = A * D\n",
        "prod_DE = D * E\n",
        "\n",
        "# Print results\n",
        "print(\"\\nA · B:\")\n",
        "print(prod_AB)\n",
        "\n",
        "print(\"\\nB · A:\")\n",
        "print(prod_BA)\n",
        "\n",
        "print(\"\\nA · D:\")\n",
        "print(prod_AD)\n",
        "\n",
        "print(\"\\nD · E:\")\n",
        "print(prod_DE)\n"
      ],
      "metadata": {
        "id": "wFiBnzaR846-",
        "outputId": "b2ff2c5b-6d4a-455d-bb38-8729307cccd9",
        "colab": {
          "base_uri": "https://localhost:8080/"
        }
      },
      "execution_count": 10,
      "outputs": [
        {
          "output_type": "stream",
          "name": "stdout",
          "text": [
            "\n",
            "A · B:\n",
            "Matrix([[19, 22], [43, 50]])\n",
            "\n",
            "B · A:\n",
            "Matrix([[23, 34], [31, 46]])\n",
            "\n",
            "A · D:\n",
            "Matrix([[7, 2], [13, 6]])\n",
            "\n",
            "D · E:\n",
            "Matrix([[7, 8], [4, 8]])\n"
          ]
        }
      ]
    }
  ],
  "metadata": {
    "kernelspec": {
      "display_name": "Python 3",
      "language": "python",
      "name": "python3"
    },
    "language_info": {
      "name": "python",
      "version": "3.11.9"
    },
    "colab": {
      "provenance": []
    }
  },
  "nbformat": 4,
  "nbformat_minor": 0
}